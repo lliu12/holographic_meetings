{
 "cells": [
  {
   "cell_type": "markdown",
   "metadata": {},
   "source": [
    "# Display an animated 3D model on a color video of an Aprilboard\n",
    "**ES143 Final Project, Team hARvARd, Fall 2020**\n",
    "\n",
    "Dylan, Lucy, Jaylen, Kaihong\n",
    "\n",
    "---\n",
    "## Steps:\n",
    "1. Specify Aprilboard used in video\n",
    "2. Specify video source\n",
    "3. Specify output file name, number of frames to include, and location of .OBJ files.\n",
    "4. Generate GIF!\n",
    "\n",
    "---"
   ]
  },
  {
   "cell_type": "code",
   "execution_count": 2,
   "metadata": {},
   "outputs": [],
   "source": [
    "# Import any required libraries here\n",
    "import cv2                               # OpenCV\n",
    "import numpy as np                       # numpy\n",
    "import os\n",
    "from pupil_apriltags import Detector\n",
    "import requests\n",
    "import pickle\n",
    "import glob   # filename and path management for file I/O\n",
    "import plotly.graph_objects as go   # for 3D plotting (better than matplotlib's mplot3d)\n",
    "from matplotlib import animation\n",
    "from IPython.display import HTML\n",
    "import io\n",
    "from PIL import Image, ImageDraw # use pip install pillow to install this\n",
    "from tqdm import tqdm\n",
    "from utils import *\n",
    "\n",
    "# Use this line to make matplotlib plot inline (only need to call it once when importing matplotlib)\n",
    "%matplotlib inline\n",
    "\n",
    "import matplotlib.pyplot as plt\n",
    "# Modify this line to adjust the displayed plot size. You can also call\n",
    "# it with different parameters or use plt.figure(figsize=[H, W]) before specific plots.\n",
    "plt.rcParams['figure.figsize'] = [10, 10]"
   ]
  },
  {
   "cell_type": "markdown",
   "metadata": {},
   "source": [
    "### Load Aprilboard Data:"
   ]
  },
  {
   "cell_type": "code",
   "execution_count": 3,
   "metadata": {},
   "outputs": [],
   "source": [
    "data = pickle.load(open('./AprilBoards.pickle', 'rb'))\n",
    "at_coarseboard = data['at_coarseboard']\n",
    "at_fineboard = data['at_fineboard']\n",
    "at_detector = Detector(families='tag36h11',\n",
    "                       nthreads=1,\n",
    "                       quad_decimate=1.0,\n",
    "                       quad_sigma=0.0,\n",
    "                       refine_edges=1,\n",
    "                       decode_sharpening=0.25,\n",
    "                       debug=0)"
   ]
  },
  {
   "cell_type": "markdown",
   "metadata": {},
   "source": [
    "### Constants"
   ]
  },
  {
   "cell_type": "markdown",
   "metadata": {},
   "source": [
    "Specify which board (at_coarseboard or at_fineboard) and which video are being used in the cell below:"
   ]
  },
  {
   "cell_type": "code",
   "execution_count": 4,
   "metadata": {},
   "outputs": [],
   "source": [
    "BOARD = at_fineboard\n",
    "SOURCE = './VID_2.MOV'"
   ]
  },
  {
   "cell_type": "markdown",
   "metadata": {},
   "source": [
    "### Generate GIF"
   ]
  },
  {
   "cell_type": "markdown",
   "metadata": {},
   "source": [
    "Specify the output file name, the number of frames (less than or equal to number of frames in your .OBJ animation), and the filename (including directory) of your .OBJ files up until the numbers."
   ]
  },
  {
   "cell_type": "code",
   "execution_count": 5,
   "metadata": {},
   "outputs": [],
   "source": [
    "output_file = 'dance.gif'\n",
    "num_frames = 60\n",
    "filenames = 'dance/lucy_'"
   ]
  },
  {
   "cell_type": "code",
   "execution_count": 6,
   "metadata": {},
   "outputs": [
    {
     "name": "stdout",
     "output_type": "stream",
     "text": [
      "Processing video...\n",
      "Calibrating camera...\n"
     ]
    },
    {
     "name": "stderr",
     "output_type": "stream",
     "text": [
      "\r",
      "  0%|          | 0/60 [00:00<?, ?it/s]"
     ]
    },
    {
     "name": "stdout",
     "output_type": "stream",
     "text": [
      "Drawing frames...\n"
     ]
    },
    {
     "name": "stderr",
     "output_type": "stream",
     "text": [
      "100%|██████████| 60/60 [06:26<00:00,  6.44s/it]\n"
     ]
    },
    {
     "name": "stdout",
     "output_type": "stream",
     "text": [
      "Saving as GIF...\n",
      "Your file dance.gif has been saved!\n"
     ]
    }
   ],
   "source": [
    "generateGIF3(output_file, num_frames, filenames, SOURCE, BOARD)"
   ]
  },
  {
   "cell_type": "code",
   "execution_count": null,
   "metadata": {},
   "outputs": [],
   "source": []
  }
 ],
 "metadata": {
  "kernelspec": {
   "display_name": "Python 3",
   "language": "python",
   "name": "python3"
  },
  "language_info": {
   "codemirror_mode": {
    "name": "ipython",
    "version": 3
   },
   "file_extension": ".py",
   "mimetype": "text/x-python",
   "name": "python",
   "nbconvert_exporter": "python",
   "pygments_lexer": "ipython3",
   "version": "3.8.3"
  }
 },
 "nbformat": 4,
 "nbformat_minor": 4
}
